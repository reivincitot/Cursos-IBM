{
 "cells": [
  {
   "cell_type": "markdown",
   "metadata": {},
   "source": [
    "# **Exploratory Data Analysis (EDA) for data science and ML**\n"
   ]
  },
  {
   "cell_type": "markdown",
   "metadata": {},
   "source": [
    "Imagina que estás viajando por una zona desconocida que no tiene señales de tráfico ni cobertura de GPS. Al acercarte a una bifurcación en el camino, te enfrentas a una decisión: ¿izquierda o derecha? ¿Qué camino tomarás? ¿Qué giro te llevará a tu destino?\n",
    "\n",
    "Tus posibilidades de éxito dependen únicamente del azar. Optar por girar a la izquierda podría ser correcto, pero hay la misma probabilidad de que sea incorrecto. Lo mismo ocurre al elegir girar a la derecha.\n",
    "\n",
    "Viajar sin señales de tráfico es como hacer ciencia de datos sin un análisis exploratorio de datos (EDA, por sus siglas en inglés). Sin EDA, un científico de datos podría encontrar un modelo de predicción excelente, pero sería puramente por casualidad: similar a tomar el giro correcto sin ninguna información en absoluto.\n",
    "\n",
    "A pesar de los riesgos evidentes de embarcarse en un proyecto de ciencia de datos sin EDA, esto es lamentablemente común, especialmente entre los principiantes. Por lo tanto, es crucial que los novatos comprendan las técnicas fundamentales de EDA desde el principio y las apliquen consistentemente en cada proyecto, por pequeño que sea.\n",
    "\n",
    "Facilita tu viaje en la ciencia de datos colocando señales de tráfico figurativas a través de un EDA efectivo. En este proyecto guiado y práctico, aprenderás cómo realizar un EDA simple y fácil de recordar utilizando Python. También aprenderás cómo aplicar los conocimientos obtenidos mediante EDA para mejorar un modelo de predicción.\n",
    "\n",
    "<center>\n",
    "<img src=\"https://cf-courses-data.s3.us.cloud-object-storage.appdomain.cloud/IBMSkillsNetwork-GPXX0HE1EN/antonio_33943_A_fork_in_a_road_with_a_left_and_right_turn._A_ro_7a9c2af5-0772-49da-941a-4d2dbf54d10f.png\" width=\"80%\" alt=\"LDA illustration\">\n",
    "</center>\n",
    "<p style=\"text-align: center;\">Generated using AI with Midjourney</p>"
   ]
  },
  {
   "cell_type": "markdown",
   "metadata": {},
   "source": [
    "## __Tabla de Contenidos__\n",
    "\n",
    "<ol>\n",
    "    <li><a href=\"#Objectives\">Objetivos</a></li>\n",
    "    <li>\n",
    "        <a href=\"#Setup\">Configuración</a>\n",
    "        <ol>\n",
    "            <li><a href=\"#Install-required-libraries\">Instalar las bibliotecas necesarias</a></li>\n",
    "            <li><a href=\"#Import-required-libraries\">Importar las bibliotecas necesarias</a></li>\n",
    "        </ol>\n",
    "    </li>\n",
    "    <li>\n",
    "        <a href=\"#Regression\">Regresión</a>\n",
    "        <ol>\n",
    "            <li><a href=\"#Load-the-diabetes-data-set\">Cargar el conjunto de datos de diabetes</a></li>\n",
    "            <li><a href=\"#Add-some-missing-values\">Añadir algunos valores faltantes</a></li>\n",
    "            <li>\n",
    "                <a href=\"#Initial-data-preprocessing\">Preprocesamiento inicial de datos</a>\n",
    "                <ol>\n",
    "                    <li><a href=\"#One-hot-encoding\">Codificación one-hot</a></li>\n",
    "                    <li><a href=\"#Make-a-train-test-split\">Hacer una división de entrenamiento y prueba</a></li>\n",
    "                </ol>\n",
    "            </li>\n",
    "            <li>\n",
    "                <a href=\"#Perform-EDA\">Realizar EDA</a>\n",
    "                <ol>\n",
    "                    <li>\n",
    "                        <a href=\"#A-look-at-the-beginning-and-end-of-the-data-set\">Una mirada al principio y al final del conjunto de datos</a>\n",
    "                        <ol>\n",
    "                            <li><a href=\"#Exercise-1\">Ejercicio 1</a></li>\n",
    "                        </ol>\n",
    "                    </li>\n",
    "                    <li>\n",
    "                        <a href=\"#Describe-the-DataFrame\">Describir el DataFrame</a>\n",
    "                        <ol>\n",
    "                            <li><a href=\"#Exercise-2\">Ejercicio 2</a></li>\n",
    "                        </ol>\n",
    "                    </li>\n",
    "                    <li>\n",
    "                        <a href=\"#Missing-values\">Valores faltantes</a>\n",
    "                        <ol>\n",
    "                            <li><a href=\"#Exercise-3\">Ejercicio 3</a></li>\n",
    "                            <li><a href=\"#Exercise-4\">Ejercicio 4</a></li>\n",
    "                        </ol>\n",
    "                    </li>\n",
    "                    <li><a href=\"#Drop-missing-observations\">Eliminar observaciones faltantes</a></li>\n",
    "                    <li><a href=\"#Fill-in-missing-values-with-the-mean\">Rellenar valores faltantes con la media</a></li>\n",
    "                    <li>\n",
    "                        <a href=\"#Fill-in-missing-values-with-the-median\">Rellenar valores faltantes con la mediana</a>\n",
    "                        <ol>\n",
    "                            <li><a href=\"#Exercise-5\">Ejercicio 5</a></li>\n",
    "                        </ol>\n",
    "                    </li>\n",
    "                    <li>\n",
    "                        <a href=\"#Histograms-and-boxplots\">Histogramas y diagramas de caja</a>\n",
    "                        <ol>\n",
    "                            <li><a href=\"#Exercise-6\">Ejercicio 6</a></li>\n",
    "                        </ol>\n",
    "                    </li>\n",
    "                    <li><a href=\"#Correlation-matrix\">Matriz de correlación</a></li>\n",
    "                    <li><a href=\"#Pair-plots\">Gráficos de pares</a></li>\n",
    "                    <li><a href=\"#A-simple-function-to-perform-EDA\">Una función simple para realizar EDA</a></li>\n",
    "                </ol>\n",
    "            </li>\n",
    "        </ol>\n",
    "    </li>\n",
    "    <li>\n",
    "        <a href=\"#Classification\">Clasificación</a>\n",
    "        <ol>\n",
    "            <li><a href=\"#Import-the-iris-data-set\">Importar el conjunto de datos de iris</a></li>\n",
    "            <li>\n",
    "                <a href=\"#Perform-EDA-on-the-iris-data-set\">Realizar EDA en el conjunto de datos de iris</a>\n",
    "                <ol>\n",
    "                    <li><a href=\"#Exercise-7\">Ejercicio 7</a></li>\n",
    "                    <li><a href=\"#Exercise-8\">Ejercicio 8</a></li>\n",
    "                </ol>\n",
    "            </li>\n",
    "        </ol>\n",
    "    </li>\n",
    "</ol>"
   ]
  },
  {
   "cell_type": "markdown",
   "metadata": {},
   "source": [
    "## Objetivos\n",
    "\n",
    "Después de completar este laboratorio, serás capaz de:\n",
    "\n",
    "- Realizar EDA utilizando un conjunto de comandos de Python muy simples y fáciles de memorizar.\n",
    "- Interpretar gráficos y estadísticas clave de EDA.\n",
    "- Mejorar un modelo de predicción utilizando la información obtenida a través de EDA.\n",
    "- Realizar ingeniería de características básica.\n",
    "- Detectar y manejar valores atípicos.\n",
    "- Lidiar con datos faltantes."
   ]
  },
  {
   "cell_type": "markdown",
   "metadata": {},
   "source": [
    "## Setup\n"
   ]
  },
  {
   "cell_type": "markdown",
   "metadata": {},
   "source": [
    "Para este laboratorio, utilizamos las siguientes bibliotecas:\n",
    "\n",
    "*   [`pandas`](https://pandas.pydata.org/?utm_medium=Exinfluencer&utm_source=Exinfluencer&utm_content=000026UJ&utm_term=10006555&utm_id=NA-SkillsNetwork-Channel-SkillsNetworkCoursesIBMML0187ENSkillsNetwork31430127-2021-01-01) para gestionar los datos\n",
    "*   [`NumPy`](https://numpy.org/?utm_medium=Exinfluencer&utm_source=Exinfluencer&utm_content=000026UJ&utm_term=10006555&utm_id=NA-SkillsNetwork-Channel-SkillsNetworkCoursesIBMML0187ENSkillsNetwork31430127-2021-01-01) para operaciones matemáticas\n",
    "*   [`SciPy`](https://scipy.org/) para operaciones matemáticas adicionales más allá de las proporcionadas por `numpy`\n",
    "*   [`sklearn`](https://scikit-learn.org/stable/?utm_medium=Exinfluencer&utm_source=Exinfluencer&utm_content=000026UJ&utm_term=10006555&utm_id=NA-SkillsNetwork-Channel-SkillsNetworkCoursesIBMML0187ENSkillsNetwork31430127-2021-01-01) para funciones de aprendizaje automático y relacionadas con pipelines de aprendizaje automático\n",
    "*   [`seaborn`](https://seaborn.pydata.org/?utm_medium=Exinfluencer&utm_source=Exinfluencer&utm_content=000026UJ&utm_term=10006555&utm_id=NA-SkillsNetwork-Channel-SkillsNetworkCoursesIBMML0187ENSkillsNetwork31430127-2021-01-01) para visualizar los datos\n",
    "*   [`Matplotlib`](https://matplotlib.org/?utm_medium=Exinfluencer&utm_source=Exinfluencer&utm_content=000026UJ&utm_term=10006555&utm_id=NA-SkillsNetwork-Channel-SkillsNetworkCoursesIBMML0187ENSkillsNetwork31430127-2021-01-01) para herramientas adicionales de gráficos\n",
    "*   [`MissingNo`](https://github.com/ResidentMario/missingno) para análisis y visualizaciones de datos faltantes\n",
    "*   [`fasteda`](https://github.com/Matt-OP/fasteda) para EDA rápida y fácil"
   ]
  },
  {
   "cell_type": "markdown",
   "metadata": {},
   "source": [
    "### Instalar las bibliotecas requeridas\n",
    "\n",
    "Aunque muchas de las bibliotecas de Python que utilizamos en este proyecto están preinstaladas, algunas no lo están. Ejecuta el siguiente bloque de código para instalar las bibliotecas faltantes. Ten en cuenta que este código tarda aproximadamente 60 segundos en ejecutarse."
   ]
  },
  {
   "cell_type": "code",
   "execution_count": null,
   "metadata": {},
   "outputs": [
    {
     "name": "stdout",
     "output_type": "stream",
     "text": [
      "Requirement already satisfied: scikit-learn in c:\\users\\snake_000\\appdata\\local\\programs\\python\\python312\\lib\\site-packages (1.5.1)Note: you may need to restart the kernel to use updated packages.\n",
      "\n",
      "Collecting seaborn\n",
      "  Using cached seaborn-0.13.2-py3-none-any.whl.metadata (5.4 kB)\n",
      "Collecting fasteda\n",
      "  Using cached fasteda-1.0.1-py3-none-any.whl\n",
      "Requirement already satisfied: numpy>=1.19.5 in c:\\users\\snake_000\\appdata\\local\\programs\\python\\python312\\lib\\site-packages (from scikit-learn) (2.0.1)\n",
      "Requirement already satisfied: scipy>=1.6.0 in c:\\users\\snake_000\\appdata\\local\\programs\\python\\python312\\lib\\site-packages (from scikit-learn) (1.14.0)\n",
      "Requirement already satisfied: joblib>=1.2.0 in c:\\users\\snake_000\\appdata\\local\\programs\\python\\python312\\lib\\site-packages (from scikit-learn) (1.4.2)\n",
      "Requirement already satisfied: threadpoolctl>=3.1.0 in c:\\users\\snake_000\\appdata\\local\\programs\\python\\python312\\lib\\site-packages (from scikit-learn) (3.5.0)\n",
      "Requirement already satisfied: pandas>=1.2 in c:\\users\\snake_000\\appdata\\local\\programs\\python\\python312\\lib\\site-packages (from seaborn) (2.2.2)\n",
      "Collecting matplotlib!=3.6.1,>=3.4 (from seaborn)\n",
      "  Using cached matplotlib-3.9.1-cp312-cp312-win_amd64.whl.metadata (11 kB)\n",
      "Collecting missingno (from fasteda)\n",
      "  Using cached missingno-0.5.2-py3-none-any.whl.metadata (639 bytes)\n",
      "Requirement already satisfied: colorama in c:\\users\\snake_000\\appdata\\roaming\\python\\python312\\site-packages (from fasteda) (0.4.6)\n",
      "Requirement already satisfied: contourpy>=1.0.1 in c:\\users\\snake_000\\appdata\\local\\programs\\python\\python312\\lib\\site-packages (from matplotlib!=3.6.1,>=3.4->seaborn) (1.2.1)\n",
      "Requirement already satisfied: cycler>=0.10 in c:\\users\\snake_000\\appdata\\local\\programs\\python\\python312\\lib\\site-packages (from matplotlib!=3.6.1,>=3.4->seaborn) (0.12.1)\n",
      "Requirement already satisfied: fonttools>=4.22.0 in c:\\users\\snake_000\\appdata\\local\\programs\\python\\python312\\lib\\site-packages (from matplotlib!=3.6.1,>=3.4->seaborn) (4.53.1)\n",
      "Requirement already satisfied: kiwisolver>=1.3.1 in c:\\users\\snake_000\\appdata\\local\\programs\\python\\python312\\lib\\site-packages (from matplotlib!=3.6.1,>=3.4->seaborn) (1.4.5)\n",
      "Requirement already satisfied: packaging>=20.0 in c:\\users\\snake_000\\appdata\\roaming\\python\\python312\\site-packages (from matplotlib!=3.6.1,>=3.4->seaborn) (24.1)\n",
      "Requirement already satisfied: pillow>=8 in c:\\users\\snake_000\\appdata\\local\\programs\\python\\python312\\lib\\site-packages (from matplotlib!=3.6.1,>=3.4->seaborn) (10.4.0)\n",
      "Requirement already satisfied: pyparsing>=2.3.1 in c:\\users\\snake_000\\appdata\\local\\programs\\python\\python312\\lib\\site-packages (from matplotlib!=3.6.1,>=3.4->seaborn) (3.1.2)\n",
      "Requirement already satisfied: python-dateutil>=2.7 in c:\\users\\snake_000\\appdata\\roaming\\python\\python312\\site-packages (from matplotlib!=3.6.1,>=3.4->seaborn) (2.9.0.post0)\n",
      "Requirement already satisfied: pytz>=2020.1 in c:\\users\\snake_000\\appdata\\local\\programs\\python\\python312\\lib\\site-packages (from pandas>=1.2->seaborn) (2024.1)\n",
      "Requirement already satisfied: tzdata>=2022.7 in c:\\users\\snake_000\\appdata\\local\\programs\\python\\python312\\lib\\site-packages (from pandas>=1.2->seaborn) (2024.1)\n",
      "Requirement already satisfied: six>=1.5 in c:\\users\\snake_000\\appdata\\roaming\\python\\python312\\site-packages (from python-dateutil>=2.7->matplotlib!=3.6.1,>=3.4->seaborn) (1.16.0)\n",
      "Using cached seaborn-0.13.2-py3-none-any.whl (294 kB)\n",
      "Using cached matplotlib-3.9.1-cp312-cp312-win_amd64.whl (8.0 MB)\n",
      "Using cached missingno-0.5.2-py3-none-any.whl (8.7 kB)\n",
      "Installing collected packages: matplotlib, seaborn, missingno, fasteda\n",
      "Successfully installed fasteda-1.0.1 matplotlib-3.9.1 missingno-0.5.2 seaborn-0.13.2\n"
     ]
    }
   ],
   "source": [
    "%pip install scikit-learn seaborn fasteda"
   ]
  },
  {
   "cell_type": "markdown",
   "metadata": {},
   "source": [
    "### Importar las bibliotecas requeridas\n",
    "\n",
    "Ejecuta el siguiente código para importar las bibliotecas requeridas y realizar algunos pasos iniciales para configurar el entorno de Python."
   ]
  },
  {
   "cell_type": "code",
   "execution_count": 7,
   "metadata": {},
   "outputs": [],
   "source": [
    "import random\n",
    "random.seed(2024)\n",
    "\n",
    "import missingno as msno\n",
    "import numpy as np\n",
    "from scipy.stats import shapiro\n",
    "import pandas as pd\n",
    "import matplotlib.pyplot as plt\n",
    "import seaborn as sns\n",
    "%matplotlib inline\n",
    "from sklearn.preprocessing import LabelEncoder, OneHotEncoder\n",
    "from sklearn.datasets import load_diabetes, load_iris\n",
    "from sklearn.linear_model import LinearRegression\n",
    "from sklearn.metrics import root_mean_squared_error\n",
    "\n",
    "from sklearn.model_selection import train_test_split\n",
    "from sklearn.impute import SimpleImputer\n",
    "\n",
    "from fasteda import fast_eda\n",
    "\n",
    "# You can also use this section to suppress warnings generated by your code:\n",
    "def warn(*args, **kwargs):\n",
    "    pass\n",
    "import warnings\n",
    "warnings.warn = warn\n",
    "warnings.filterwarnings('ignore')\n",
    "\n",
    "sns.set_context('notebook')\n",
    "sns.set_style('white')"
   ]
  },
  {
   "cell_type": "markdown",
   "metadata": {},
   "source": [
    "# Regresión\n",
    "\n",
    "En esta sección, aprenderás cómo realizar el análisis exploratorio de datos (EDA) en un conjunto de datos con el objetivo de construir un modelo predictivo enfocado en la [regresión](https://es.wikipedia.org/wiki/An%C3%A1lisis_de_regresi%C3%B3n). En términos simples, un objetivo de **regresión** implica predecir un valor particular para una variable de resultado numérica, como la puntuación en un examen de un estudiante o el ingreso de un trabajador, basado en varios factores observables, llamados **características**.\n",
    "\n",
    "En esta sección, trabajarás con un conjunto de datos que tiene como objetivo predecir una estimación numérica de la progresión de la diabetes un año después de una evaluación inicial. En otras palabras, para cada paciente (observación), el objetivo es predecir una puntuación numérica que indique la progresión de la diabetes un año después de haber registrado su presión arterial, índice de masa corporal y nivel de azúcar en la sangre."
   ]
  },
  {
   "cell_type": "markdown",
   "metadata": {},
   "source": [
    "## Cargar el conjunto de datos de diabetes\n",
    "\n",
    "El siguiente código carga el conjunto de datos de diabetes de `sklearn` e imprime una descripción de los datos."
   ]
  },
  {
   "cell_type": "code",
   "execution_count": 9,
   "metadata": {},
   "outputs": [
    {
     "name": "stdout",
     "output_type": "stream",
     "text": [
      ".. _diabetes_dataset:\n",
      "\n",
      "Diabetes dataset\n",
      "----------------\n",
      "\n",
      "Ten baseline variables, age, sex, body mass index, average blood\n",
      "pressure, and six blood serum measurements were obtained for each of n =\n",
      "442 diabetes patients, as well as the response of interest, a\n",
      "quantitative measure of disease progression one year after baseline.\n",
      "\n",
      "**Data Set Characteristics:**\n",
      "\n",
      ":Number of Instances: 442\n",
      "\n",
      ":Number of Attributes: First 10 columns are numeric predictive values\n",
      "\n",
      ":Target: Column 11 is a quantitative measure of disease progression one year after baseline\n",
      "\n",
      ":Attribute Information:\n",
      "    - age     age in years\n",
      "    - sex\n",
      "    - bmi     body mass index\n",
      "    - bp      average blood pressure\n",
      "    - s1      tc, total serum cholesterol\n",
      "    - s2      ldl, low-density lipoproteins\n",
      "    - s3      hdl, high-density lipoproteins\n",
      "    - s4      tch, total cholesterol / HDL\n",
      "    - s5      ltg, possibly log of serum triglycerides level\n",
      "    - s6      glu, blood sugar level\n",
      "\n",
      "Note: Each of these 10 feature variables have been mean centered and scaled by the standard deviation times the square root of `n_samples` (i.e. the sum of squares of each column totals 1).\n",
      "\n",
      "Source URL:\n",
      "https://www4.stat.ncsu.edu/~boos/var.select/diabetes.html\n",
      "\n",
      "For more information see:\n",
      "Bradley Efron, Trevor Hastie, Iain Johnstone and Robert Tibshirani (2004) \"Least Angle Regression,\" Annals of Statistics (with discussion), 407-499.\n",
      "(https://web.stanford.edu/~hastie/Papers/LARS/LeastAngle_2002.pdf)\n",
      "\n"
     ]
    }
   ],
   "source": [
    "# Cargar los datos de 'sklearn' como dos pandas.DataFrame\n",
    "diabetes_X, diabetes_y = load_diabetes(return_X_y=True, as_frame=True,scaled=False)\n",
    "\n",
    "# Concatenar los dos pandas.DataFrames en uno solo\n",
    "diabetes = pd.concat([diabetes_X, pd.Series(diabetes_y)], axis=1).rename({0: 'target'}, axis=1)\n",
    "\n",
    "# Cargar el conjunto de datos de `sklearn` usando otro método para imprimir\n",
    "# la descripción del conjunto de datos\n",
    "\n",
    "diabetes_default = load_diabetes()\n",
    "\n",
    "# Imprimir la descripción del conjunto de datos:\n",
    "print(diabetes_default['DESCR'])"
   ]
  },
  {
   "cell_type": "code",
   "execution_count": 10,
   "metadata": {},
   "outputs": [
    {
     "data": {
      "text/html": [
       "<div>\n",
       "<style scoped>\n",
       "    .dataframe tbody tr th:only-of-type {\n",
       "        vertical-align: middle;\n",
       "    }\n",
       "\n",
       "    .dataframe tbody tr th {\n",
       "        vertical-align: top;\n",
       "    }\n",
       "\n",
       "    .dataframe thead th {\n",
       "        text-align: right;\n",
       "    }\n",
       "</style>\n",
       "<table border=\"1\" class=\"dataframe\">\n",
       "  <thead>\n",
       "    <tr style=\"text-align: right;\">\n",
       "      <th></th>\n",
       "      <th>age</th>\n",
       "      <th>sex</th>\n",
       "      <th>bmi</th>\n",
       "      <th>bp</th>\n",
       "      <th>s1</th>\n",
       "      <th>s2</th>\n",
       "      <th>s3</th>\n",
       "      <th>s4</th>\n",
       "      <th>s5</th>\n",
       "      <th>s6</th>\n",
       "      <th>target</th>\n",
       "    </tr>\n",
       "  </thead>\n",
       "  <tbody>\n",
       "    <tr>\n",
       "      <th>166</th>\n",
       "      <td>33.0</td>\n",
       "      <td>2.0</td>\n",
       "      <td>20.8</td>\n",
       "      <td>84.0</td>\n",
       "      <td>125.0</td>\n",
       "      <td>70.2</td>\n",
       "      <td>46.0</td>\n",
       "      <td>3.0</td>\n",
       "      <td>3.7842</td>\n",
       "      <td>66.0</td>\n",
       "      <td>70.0</td>\n",
       "    </tr>\n",
       "    <tr>\n",
       "      <th>279</th>\n",
       "      <td>59.0</td>\n",
       "      <td>2.0</td>\n",
       "      <td>24.1</td>\n",
       "      <td>96.0</td>\n",
       "      <td>170.0</td>\n",
       "      <td>98.6</td>\n",
       "      <td>54.0</td>\n",
       "      <td>3.0</td>\n",
       "      <td>4.4659</td>\n",
       "      <td>85.0</td>\n",
       "      <td>200.0</td>\n",
       "    </tr>\n",
       "    <tr>\n",
       "      <th>106</th>\n",
       "      <td>22.0</td>\n",
       "      <td>1.0</td>\n",
       "      <td>19.3</td>\n",
       "      <td>82.0</td>\n",
       "      <td>156.0</td>\n",
       "      <td>93.2</td>\n",
       "      <td>52.0</td>\n",
       "      <td>3.0</td>\n",
       "      <td>3.9890</td>\n",
       "      <td>71.0</td>\n",
       "      <td>134.0</td>\n",
       "    </tr>\n",
       "    <tr>\n",
       "      <th>188</th>\n",
       "      <td>50.0</td>\n",
       "      <td>1.0</td>\n",
       "      <td>26.1</td>\n",
       "      <td>109.0</td>\n",
       "      <td>243.0</td>\n",
       "      <td>160.6</td>\n",
       "      <td>62.0</td>\n",
       "      <td>4.0</td>\n",
       "      <td>4.6250</td>\n",
       "      <td>89.0</td>\n",
       "      <td>141.0</td>\n",
       "    </tr>\n",
       "    <tr>\n",
       "      <th>164</th>\n",
       "      <td>61.0</td>\n",
       "      <td>1.0</td>\n",
       "      <td>24.6</td>\n",
       "      <td>101.0</td>\n",
       "      <td>209.0</td>\n",
       "      <td>106.8</td>\n",
       "      <td>77.0</td>\n",
       "      <td>3.0</td>\n",
       "      <td>4.8363</td>\n",
       "      <td>88.0</td>\n",
       "      <td>214.0</td>\n",
       "    </tr>\n",
       "  </tbody>\n",
       "</table>\n",
       "</div>"
      ],
      "text/plain": [
       "      age  sex   bmi     bp     s1     s2    s3   s4      s5    s6  target\n",
       "166  33.0  2.0  20.8   84.0  125.0   70.2  46.0  3.0  3.7842  66.0    70.0\n",
       "279  59.0  2.0  24.1   96.0  170.0   98.6  54.0  3.0  4.4659  85.0   200.0\n",
       "106  22.0  1.0  19.3   82.0  156.0   93.2  52.0  3.0  3.9890  71.0   134.0\n",
       "188  50.0  1.0  26.1  109.0  243.0  160.6  62.0  4.0  4.6250  89.0   141.0\n",
       "164  61.0  1.0  24.6  101.0  209.0  106.8  77.0  3.0  4.8363  88.0   214.0"
      ]
     },
     "execution_count": 10,
     "metadata": {},
     "output_type": "execute_result"
    }
   ],
   "source": [
    "diabetes.sample(5)"
   ]
  },
  {
   "cell_type": "markdown",
   "metadata": {},
   "source": [
    "---\n",
    "\n",
    "Claramente, tienes 10 características y una columna de objetivo. Como se mencionó anteriormente, el objetivo es una medida cuantitativa de la progresión de la diabetes un año después de establecer un nivel base de diabetes. Tu tarea es predecir esta medida de progresión de la enfermedad en base a las características observadas.\n",
    "\n",
    "La mayoría de las características son numéricas, excepto `sex`, que es una característica categórica con `1.0` representando ya sea femenina o masculina (no está claro a partir de la descripción de los datos) y `2.0` representando el sexo opuesto. Las variables `s1` a `s6` están definidas como se indica en la descripción de los datos."
   ]
  },
  {
   "cell_type": "markdown",
   "metadata": {},
   "source": [
    "# Añadir algunos valores faltantes\n",
    "\n",
    "El conjunto de datos original no contiene valores faltantes. Para verificar esto, ejecuta el siguiente código, que imprimirá `True` si hay valores faltantes y `False` en caso contrario."
   ]
  },
  {
   "cell_type": "markdown",
   "metadata": {},
   "source": []
  },
  {
   "cell_type": "code",
   "execution_count": 12,
   "metadata": {},
   "outputs": [
    {
     "data": {
      "text/plain": [
       "np.False_"
      ]
     },
     "execution_count": 12,
     "metadata": {},
     "output_type": "execute_result"
    }
   ],
   "source": [
    "diabetes.isna().max(axis=0).max()"
   ]
  },
  {
   "cell_type": "markdown",
   "metadata": {},
   "source": [
    "Para obtener el mayor beneficio de este ejercicio de EDA, se introducirán algunos valores faltantes. Específicamente, seleccionas 3 columnas de características al azar y las estableces como faltantes para el 10% de las filas seleccionadas al azar."
   ]
  },
  {
   "cell_type": "code",
   "execution_count": 13,
   "metadata": {},
   "outputs": [],
   "source": [
    "# Establecer la semilla aleatoria para la reproducibilidad\n",
    "random.seed(2024)\n",
    "\n",
    "# Seleccionar 3 columnas al azar\n",
    "missing_cols= random.sample(range(len(diabetes.columns)-1),3)\n",
    "\n",
    "# Seleccionar el 10% de las filas al azar\n",
    "missing_rows = random.sample(diabetes.index.tolist(), int(np.round(len(diabetes.index.tolist())/10)))\n",
    "\n",
    "# Establecer 3 columnas seleccionadas como valores faltantes par el 10% de las filas seleccionadas\n",
    "diabetes.iloc[missing_rows, missing_cols] = np.nan"
   ]
  },
  {
   "cell_type": "markdown",
   "metadata": {},
   "source": [
    "Para saber cuales columnas fueron seleccionadas al azar, correremos el siguiente código"
   ]
  },
  {
   "cell_type": "code",
   "execution_count": 14,
   "metadata": {},
   "outputs": [
    {
     "name": "stdout",
     "output_type": "stream",
     "text": [
      "['bmi', 's1', 's4']\n"
     ]
    }
   ],
   "source": [
    "print(sorted(diabetes.columns[missing_cols]))"
   ]
  },
  {
   "cell_type": "markdown",
   "metadata": {},
   "source": [
    "## Preprocesamiento inicial de datos\n",
    "\n",
    "En este paso, realizas un preprocesamiento inicial de datos necesario para usar los datos en un modelo de predicción.\n",
    "\n",
    "En un flujo de trabajo típico, el preprocesamiento de datos generalmente se realiza *después* del EDA (análisis exploratorio de datos). Después de todo, ¿cómo se pueden determinar los pasos de preprocesamiento necesarios sin examinar primero los datos a fondo? Sin embargo, en este caso, estás adelantando estos pasos de preprocesamiento iniciales para permitir la construcción de múltiples modelos de predicción basados en los conocimientos obtenidos del EDA, con el objetivo de mejorar el rendimiento predictivo de cada modelo sucesivo. Ten en cuenta que algún nivel de preprocesamiento es esencial para construir cualquier modelo útil. Por lo tanto, llevarás a cabo este preprocesamiento inicial aquí, con la comprensión de que en un flujo de trabajo estándar, estos pasos generalmente ocurrirían *después* del EDA.\n",
    "\n",
    "### Codificación One-hot\n",
    "\n",
    "Recuerda que la columna `sex` codifica el género femenino y masculino con `1.0` y `2.0`, donde no está claro en la documentación del conjunto de datos qué código corresponde a qué sexo. Si mantuvieras esta columna codificada tal como está, los modelos de predicción interpretarían esta columna como si tuviera un orden particular, lo cual no es lo que deseas porque los géneros no tienen un orden inherente. Más bien, sería mejor realizar una [codificación one-hot](https://en.wikipedia.org/wiki/One-hot), en la que divides la columna `sex` en dos columnas: una para cada categoría. La transformación de datos que ofrece la codificación one-hot se ilustra mejor con un ejemplo:"
   ]
  },
  {
   "cell_type": "code",
   "execution_count": 15,
   "metadata": {},
   "outputs": [
    {
     "data": {
      "text/html": [
       "<div>\n",
       "<style scoped>\n",
       "    .dataframe tbody tr th:only-of-type {\n",
       "        vertical-align: middle;\n",
       "    }\n",
       "\n",
       "    .dataframe tbody tr th {\n",
       "        vertical-align: top;\n",
       "    }\n",
       "\n",
       "    .dataframe thead th {\n",
       "        text-align: right;\n",
       "    }\n",
       "</style>\n",
       "<table border=\"1\" class=\"dataframe\">\n",
       "  <thead>\n",
       "    <tr style=\"text-align: right;\">\n",
       "      <th></th>\n",
       "      <th>sex</th>\n",
       "      <th>sex1</th>\n",
       "      <th>sex2</th>\n",
       "    </tr>\n",
       "  </thead>\n",
       "  <tbody>\n",
       "    <tr>\n",
       "      <th>395</th>\n",
       "      <td>1.0</td>\n",
       "      <td>1.0</td>\n",
       "      <td>0.0</td>\n",
       "    </tr>\n",
       "    <tr>\n",
       "      <th>367</th>\n",
       "      <td>2.0</td>\n",
       "      <td>0.0</td>\n",
       "      <td>1.0</td>\n",
       "    </tr>\n",
       "    <tr>\n",
       "      <th>337</th>\n",
       "      <td>2.0</td>\n",
       "      <td>0.0</td>\n",
       "      <td>1.0</td>\n",
       "    </tr>\n",
       "    <tr>\n",
       "      <th>189</th>\n",
       "      <td>1.0</td>\n",
       "      <td>1.0</td>\n",
       "      <td>0.0</td>\n",
       "    </tr>\n",
       "    <tr>\n",
       "      <th>254</th>\n",
       "      <td>2.0</td>\n",
       "      <td>0.0</td>\n",
       "      <td>1.0</td>\n",
       "    </tr>\n",
       "    <tr>\n",
       "      <th>300</th>\n",
       "      <td>1.0</td>\n",
       "      <td>1.0</td>\n",
       "      <td>0.0</td>\n",
       "    </tr>\n",
       "    <tr>\n",
       "      <th>379</th>\n",
       "      <td>1.0</td>\n",
       "      <td>1.0</td>\n",
       "      <td>0.0</td>\n",
       "    </tr>\n",
       "    <tr>\n",
       "      <th>345</th>\n",
       "      <td>2.0</td>\n",
       "      <td>0.0</td>\n",
       "      <td>1.0</td>\n",
       "    </tr>\n",
       "    <tr>\n",
       "      <th>44</th>\n",
       "      <td>2.0</td>\n",
       "      <td>0.0</td>\n",
       "      <td>1.0</td>\n",
       "    </tr>\n",
       "    <tr>\n",
       "      <th>149</th>\n",
       "      <td>2.0</td>\n",
       "      <td>0.0</td>\n",
       "      <td>1.0</td>\n",
       "    </tr>\n",
       "  </tbody>\n",
       "</table>\n",
       "</div>"
      ],
      "text/plain": [
       "     sex  sex1  sex2\n",
       "395  1.0   1.0   0.0\n",
       "367  2.0   0.0   1.0\n",
       "337  2.0   0.0   1.0\n",
       "189  1.0   1.0   0.0\n",
       "254  2.0   0.0   1.0\n",
       "300  1.0   1.0   0.0\n",
       "379  1.0   1.0   0.0\n",
       "345  2.0   0.0   1.0\n",
       "44   2.0   0.0   1.0\n",
       "149  2.0   0.0   1.0"
      ]
     },
     "execution_count": 15,
     "metadata": {},
     "output_type": "execute_result"
    }
   ],
   "source": [
    "# Inicializar el codificador one-hot\n",
    "enc1 = OneHotEncoder(handle_unknown='ignore', drop=None)\n",
    "\n",
    "# Codificar one-hot 'sex'; la salida es un array de numpy\n",
    "encoded_sex = enc1.fit_transform(diabetes[['sex']]).toarray()\n",
    "\n",
    "# Convertir el array de numpy a un DataFrame de pandas con nombres de columnas basados en las etiquetas originales de las categorías\n",
    "encoded_sex = pd.DataFrame(encoded_sex, columns=['sex'+ str(int(x)) for x in enc1.categories_[0]])\n",
    "\n",
    "# Concatenar horizontalmente el conjunto de datos original 'diabetes' con las dos columnas one-hot\n",
    "diabetes = pd.concat([diabetes, encoded_sex], axis=1)\n",
    "\n",
    "# muestra 10 filas. Imprime solo las columnas 'sex', 'sex1' y 'sex2' por simplicidad\n",
    "diabetes[['sex', 'sex1', 'sex2']].sample(10)"
   ]
  },
  {
   "cell_type": "markdown",
   "metadata": {},
   "source": [
    "---\n",
    "\n",
    "La tabla anterior muestra la columna original `sex`, y las dos columnas en las que la columna `sex` se dividió utilizando la codificación one-hot: `sex1` y `sex2`. Ten en cuenta que cuando `sex` toma el valor de `1.0`, la columna `sex1` toma el valor de `1.0` y la columna `sex2` toma el valor de `0.0`. De manera similar, cuando `sex` toma el valor de `2.0`, la columna `sex1` toma el valor de `0.0` y la columna `sex2` toma el valor de `1.0`. Así que la codificación one-hot esencialmente divide una variable categórica en una serie de columnas indicadoras, donde el indicador es igual a `1.0` si la categoría está presente y `0.0` en caso contrario.\n",
    "\n",
    "Ahora, en lugar de mantener ambas columnas `sex1` y `sex2` en tu nuevo conjunto de datos, solo mantén una columna, por ejemplo, `sex1`, porque después de tener una de estas columnas, la otra columna no agrega información útil al modelo. En otras palabras, cuando `sex1` es igual a `1.0`, entonces `sex2` debe ser igual a `0.0`, y viceversa. Esencialmente, esto equivale a decir que, si supieras que un individuo es femenino, entonces sabes que no es masculino, y viceversa. Por lo tanto, solo necesitarías mantener una de las columnas, ya sea la de femenino o la de masculino, porque la otra columna no te da ninguna información útil después de tener la primera columna. En este caso, mantén la primera columna, `sex1`, y elimina `sex` y `sex2` del conjunto de datos."
   ]
  },
  {
   "cell_type": "code",
   "execution_count": 16,
   "metadata": {},
   "outputs": [
    {
     "data": {
      "text/html": [
       "<div>\n",
       "<style scoped>\n",
       "    .dataframe tbody tr th:only-of-type {\n",
       "        vertical-align: middle;\n",
       "    }\n",
       "\n",
       "    .dataframe tbody tr th {\n",
       "        vertical-align: top;\n",
       "    }\n",
       "\n",
       "    .dataframe thead th {\n",
       "        text-align: right;\n",
       "    }\n",
       "</style>\n",
       "<table border=\"1\" class=\"dataframe\">\n",
       "  <thead>\n",
       "    <tr style=\"text-align: right;\">\n",
       "      <th></th>\n",
       "      <th>age</th>\n",
       "      <th>sex1</th>\n",
       "      <th>bmi</th>\n",
       "      <th>bp</th>\n",
       "      <th>s1</th>\n",
       "      <th>s2</th>\n",
       "      <th>s3</th>\n",
       "      <th>s4</th>\n",
       "      <th>s5</th>\n",
       "      <th>s6</th>\n",
       "      <th>target</th>\n",
       "    </tr>\n",
       "  </thead>\n",
       "  <tbody>\n",
       "    <tr>\n",
       "      <th>123</th>\n",
       "      <td>50.0</td>\n",
       "      <td>0.0</td>\n",
       "      <td>29.6</td>\n",
       "      <td>94.33</td>\n",
       "      <td>300.0</td>\n",
       "      <td>242.4</td>\n",
       "      <td>33.0</td>\n",
       "      <td>9.09</td>\n",
       "      <td>4.8122</td>\n",
       "      <td>109.0</td>\n",
       "      <td>84.0</td>\n",
       "    </tr>\n",
       "    <tr>\n",
       "      <th>306</th>\n",
       "      <td>51.0</td>\n",
       "      <td>0.0</td>\n",
       "      <td>26.2</td>\n",
       "      <td>101.00</td>\n",
       "      <td>161.0</td>\n",
       "      <td>99.6</td>\n",
       "      <td>48.0</td>\n",
       "      <td>3.00</td>\n",
       "      <td>4.2047</td>\n",
       "      <td>88.0</td>\n",
       "      <td>44.0</td>\n",
       "    </tr>\n",
       "    <tr>\n",
       "      <th>301</th>\n",
       "      <td>48.0</td>\n",
       "      <td>0.0</td>\n",
       "      <td>24.1</td>\n",
       "      <td>110.00</td>\n",
       "      <td>209.0</td>\n",
       "      <td>134.6</td>\n",
       "      <td>58.0</td>\n",
       "      <td>4.00</td>\n",
       "      <td>4.4067</td>\n",
       "      <td>100.0</td>\n",
       "      <td>65.0</td>\n",
       "    </tr>\n",
       "    <tr>\n",
       "      <th>25</th>\n",
       "      <td>30.0</td>\n",
       "      <td>0.0</td>\n",
       "      <td>25.2</td>\n",
       "      <td>83.00</td>\n",
       "      <td>178.0</td>\n",
       "      <td>118.4</td>\n",
       "      <td>34.0</td>\n",
       "      <td>5.00</td>\n",
       "      <td>4.8520</td>\n",
       "      <td>83.0</td>\n",
       "      <td>202.0</td>\n",
       "    </tr>\n",
       "    <tr>\n",
       "      <th>348</th>\n",
       "      <td>57.0</td>\n",
       "      <td>1.0</td>\n",
       "      <td>24.5</td>\n",
       "      <td>93.00</td>\n",
       "      <td>186.0</td>\n",
       "      <td>96.6</td>\n",
       "      <td>71.0</td>\n",
       "      <td>3.00</td>\n",
       "      <td>4.5218</td>\n",
       "      <td>91.0</td>\n",
       "      <td>148.0</td>\n",
       "    </tr>\n",
       "  </tbody>\n",
       "</table>\n",
       "</div>"
      ],
      "text/plain": [
       "      age  sex1   bmi      bp     s1     s2    s3    s4      s5     s6  target\n",
       "123  50.0   0.0  29.6   94.33  300.0  242.4  33.0  9.09  4.8122  109.0    84.0\n",
       "306  51.0   0.0  26.2  101.00  161.0   99.6  48.0  3.00  4.2047   88.0    44.0\n",
       "301  48.0   0.0  24.1  110.00  209.0  134.6  58.0  4.00  4.4067  100.0    65.0\n",
       "25   30.0   0.0  25.2   83.00  178.0  118.4  34.0  5.00  4.8520   83.0   202.0\n",
       "348  57.0   1.0  24.5   93.00  186.0   96.6  71.0  3.00  4.5218   91.0   148.0"
      ]
     },
     "execution_count": 16,
     "metadata": {},
     "output_type": "execute_result"
    }
   ],
   "source": [
    "# Eliminar 'sex' y 'sex2'\n",
    "diabetes = diabetes.drop(['sex','sex2'],axis=1)\n",
    "\n",
    "# Reordenar las columnas para que 'sex1' esté donde solía estar 'sex'\n",
    "diabetes = diabetes.loc[:, ['age', 'sex1', 'bmi', 'bp', 's1','s2', 's3', 's4', 's5','s6', 'target']]\n",
    "\n",
    "# imprimir una muestra de 5 filas\n",
    "diabetes.sample(5)"
   ]
  },
  {
   "cell_type": "markdown",
   "metadata": {},
   "source": [
    "Ves que la columna original `sex` ahora está codificada con una variable indicadora: donde sea que `sex` fuera igual a `1.0`, `sex1` es `1.0`, y siempre que `sex` fuera igual a `2.0`, `sex1` es igual a `0.0`. Esto ya no implica datos ordenados, sino la presencia de una categoría particular: cuando `sex` era `1.0`, `sex1` es `1.0` (en otras palabras, la categoría `sex == 1` está presente), y cuando `sex` era `2.0`, `sex1` es `0.0` (en otras palabras, la categoría `sex == 1` está ausente).\n",
    "\n",
    "### Realizar una división en conjunto de entrenamiento y conjunto de prueba\n",
    "\n",
    "Antes de realizar el análisis exploratorio de datos (EDA), divide el conjunto de datos en un conjunto de entrenamiento y un conjunto de prueba. El conjunto de entrenamiento es el que usas para entrenar tus modelos de predicción, y el conjunto de prueba es el conjunto de datos no visto sobre el que haces predicciones. Evalúas el rendimiento de tus modelos usando su capacidad para predecir el conjunto de prueba no visto. Ejecuta el siguiente código para asignar aleatoriamente el 33% de las filas al conjunto de prueba y el 67% restante al conjunto de entrenamiento.\n"
   ]
  },
  {
   "cell_type": "code",
   "execution_count": 17,
   "metadata": {},
   "outputs": [],
   "source": [
    "# Dividir en conjuntos de entrenamiento y prueba\n",
    "X_train, X_test, y_train, y_test = train_test_split(diabetes.iloc[:, :-1], diabetes.iloc[:,[-1]], test_size = 0.33, random_state=2024)"
   ]
  },
  {
   "cell_type": "markdown",
   "metadata": {},
   "source": [
    "Los objetos resultantes contienen los siguientes datos:\n",
    "- `X_train` son las columnas de características en el conjunto de entrenamiento.\n",
    "- `X_test` son las columnas de características en el conjunto de prueba.\n",
    "- `y_train` es la columna objetivo para el conjunto de entrenamiento.\n",
    "- `y_test` es la columna objetivo para el conjunto de prueba.\n"
   ]
  },
  {
   "cell_type": "markdown",
   "metadata": {},
   "source": [
    "## Realizar EDA\n",
    "\n",
    "¡Finalmente, estás listo para realizar EDA en el conjunto de datos `diabetes`!\n",
    "\n",
    "### Una mirada al principio y al final del conjunto de datos\n",
    "\n",
    "El EDA típicamente comienza con una revisión del principio (usando `head`) y el final (usando `tail`) del conjunto de datos. Ejecuta el siguiente código para observar el principio del conjunto de datos."
   ]
  }
 ],
 "metadata": {
  "kernelspec": {
   "display_name": "Python 3",
   "language": "python",
   "name": "python3"
  },
  "language_info": {
   "codemirror_mode": {
    "name": "ipython",
    "version": 3
   },
   "file_extension": ".py",
   "mimetype": "text/x-python",
   "name": "python",
   "nbconvert_exporter": "python",
   "pygments_lexer": "ipython3",
   "version": "3.12.4"
  }
 },
 "nbformat": 4,
 "nbformat_minor": 2
}

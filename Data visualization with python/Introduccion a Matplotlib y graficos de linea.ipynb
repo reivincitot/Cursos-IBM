{
 "cells": [
  {
   "cell_type": "markdown",
   "metadata": {},
   "source": [
    "# Data Visualization\n",
    "\n",
    "## Objectives\n",
    "\n",
    "Luego de completar este lab seras capas de:\n",
    "\n",
    "*   Crear visualización de información con Python.\n",
    "*   Utilizar librerías populares para la creación de gráficos en Python.\n"
   ]
  },
  {
   "cell_type": "markdown",
   "metadata": {},
   "source": [
    "## Introducción\n",
    "\n",
    "El objetivo de estos laboratorios es introducirte a la visualización de datos con Python de la manera más concreta y consistente posible. Hablando de consistencia, debido a que no existe una única biblioteca de visualización de datos *óptima* disponible para Python, hasta la creación de estos laboratorios, tenemos que presentar diferentes bibliotecas y mostrar sus beneficios cuando discutimos nuevos conceptos de visualización. Al hacerlo, esperamos que los estudiantes adquieran un conocimiento completo de las bibliotecas y conceptos de visualización, de modo que sean capaces de evaluar y decidir sobre la mejor técnica y herramienta de visualización para un problema *y* audiencia específicos.\n",
    "\n",
    "Por favor asegúrate de haber completado los cursos previos, llamados  [**Python Basics for Data Science**](https://www.edx.org/course/python-basics-for-data-science-2?utm_medium=Exinfluencer&utm_source=Exinfluencer&utm_content=000026UJ&utm_term=10006555&utm_id=NA-SkillsNetwork-Channel-SkillsNetworkCoursesIBMDeveloperSkillsNetworkDV0101ENSkillsNetwork20297740-2021-01-01) y [**Analyzing Data with Python**](https://www.edx.org/course/data-analysis-with-python?utm_medium=Exinfluencer&utm_source=Exinfluencer&utm_content=000026UJ&utm_term=10006555&utm_id=NA-SkillsNetwork-Channel-SkillsNetworkCoursesIBMDeveloperSkillsNetworkDV0101ENSkillsNetwork20297740-2021-01-01).\n",
    "\n",
    "**Nota**: la mayoría de los gráficos y visualizaciones serán generados usando información almacenada en dataframes de *pandas*. Es por eso que en este lab, proporcionaremos un breve curso de *pandas*. Como sea si estas interesado en aprender mas sobre la librería *pandas*, una descripción detallada, como usarla y como limpiarla,munge, y procesar la información almacenada en los dataframes de *pandas* dados en el curso [**Analyzing Data with Python**](https://www.edx.org/course/data-analysis-with-python?utm_medium=Exinfluencer&utm_source=Exinfluencer&utm_content=000026UJ&utm_term=10006555&utm_id=NA-SkillsNetwork-Channel-SkillsNetworkCoursesIBMDeveloperSkillsNetworkDV0101ENSkillsNetwork20297740-2021-01-01)."
   ]
  },
  {
   "cell_type": "markdown",
   "metadata": {},
   "source": []
  }
 ],
 "metadata": {
  "language_info": {
   "name": "python"
  }
 },
 "nbformat": 4,
 "nbformat_minor": 2
}
